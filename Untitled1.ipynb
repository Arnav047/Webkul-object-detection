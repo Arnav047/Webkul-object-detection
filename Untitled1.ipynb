{
 "cells": [
  {
   "cell_type": "code",
   "execution_count": null,
   "id": "64f6868a",
   "metadata": {},
   "outputs": [],
   "source": [
    "import streamlit as st\n",
    "from ultralytics import YOLO\n",
    "import cv2\n",
    "import tempfile\n",
    "from PIL import Image\n",
    "import numpy as np\n",
    "\n",
    "model = YOLO('runs/detect/train/weights/best.pt')  \n",
    "\n",
    "st.title(\"🍎🥭 Fruit Detection Demo using YOLOv8\")\n",
    "st.write(\"Upload an image or video to detect objects.\")\n",
    "\n",
    "uploaded_file = st.file_uploader(\"Upload Image or Video\", type=[\"jpg\", \"jpeg\", \"png\", \"mp4\"])\n",
    "\n",
    "if uploaded_file is not None:\n",
    "    file_type = uploaded_file.type\n",
    "\n",
    "    if file_type.startswith(\"image\"):\n",
    "        image = Image.open(uploaded_file).convert(\"RGB\")\n",
    "        st.image(image, caption=\"Input Image\", use_column_width=True)\n",
    "\n",
    "        img_array = np.array(image)\n",
    "        results = model(img_array)\n",
    "\n",
    "        res_plotted = results[0].plot()[:, :, ::-1]\n",
    "        st.image(res_plotted, caption=\"Predicted Output\", use_column_width=True)\n",
    "\n",
    "    \n",
    "    elif file_type.startswith(\"video\"):\n",
    "        tfile = tempfile.NamedTemporaryFile(delete=False)\n",
    "        tfile.write(uploaded_file.read())\n",
    "\n",
    "        st.video(tfile.name)\n",
    "        st.info(\"⚠️ Video inference demo not shown frame-by-frame here. You can save predictions using model.predict(save=True) in a separate script.\")\n"
   ]
  }
 ],
 "metadata": {
  "kernelspec": {
   "display_name": "Python newENV",
   "language": "python",
   "name": "myenv"
  },
  "language_info": {
   "codemirror_mode": {
    "name": "ipython",
    "version": 3
   },
   "file_extension": ".py",
   "mimetype": "text/x-python",
   "name": "python",
   "nbconvert_exporter": "python",
   "pygments_lexer": "ipython3",
   "version": "3.11.0"
  }
 },
 "nbformat": 4,
 "nbformat_minor": 5
}
